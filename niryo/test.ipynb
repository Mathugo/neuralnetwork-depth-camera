{
 "cells": [
  {
   "cell_type": "code",
   "execution_count": null,
   "metadata": {},
   "outputs": [
    {
     "ename": "",
     "evalue": "",
     "output_type": "error",
     "traceback": [
      "\u001b[1;31mRunning cells with 'Python 2.7.18 ('niryo')' requires ipykernel package.\n",
      "Run the following command to install 'ipykernel' into the Python environment. \n",
      "Command: 'conda install -n niryo ipykernel --update-deps --force-reinstall'"
     ]
    }
   ],
   "source": [
    "from niryo import Niryo"
   ]
  }
 ],
 "metadata": {
  "interpreter": {
   "hash": "be337728a477683d6c9ba721c136300e08a5f355ec4468eb99990c223cb087df"
  },
  "kernelspec": {
   "display_name": "Python 2.7.18 ('niryo')",
   "language": "python",
   "name": "python3"
  },
  "language_info": {
   "name": "python",
   "version": "2.7.18"
  },
  "orig_nbformat": 4
 },
 "nbformat": 4,
 "nbformat_minor": 2
}
